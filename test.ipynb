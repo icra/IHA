{
 "cells": [
  {
   "cell_type": "code",
   "execution_count": 1,
   "metadata": {},
   "outputs": [],
   "source": [
    "%load_ext autoreload\n",
    "%autoreload 2"
   ]
  },
  {
   "cell_type": "code",
   "execution_count": 2,
   "metadata": {},
   "outputs": [],
   "source": [
    "from IHA import IHA\n",
    "import pandas as pd\n"
   ]
  },
  {
   "cell_type": "code",
   "execution_count": 3,
   "metadata": {},
   "outputs": [
    {
     "data": {
      "text/plain": [
       "'\"\\ncsv_file = \\'channel_sd_day.csv\\'\\n#read first row of csv file\\ntitle = pd.read_csv(csv_file, nrows=1).columns.tolist()[0]\\n\\n#get watershed name\\nwatershed = title.split()[0]\\nwatershed\\n\\n#read csv ignore first and third row\\ndf = pd.read_csv(csv_file, skiprows=[0,2], usecols = [1,2,3,47])    #use only month, day, year and flo_out\\ndf\\n\\n#remove spaces in column names\\ndf.columns = df.columns.str.replace(\\' \\', \\'\\')\\n\\n#replace column title mon by month and yr by year\\ndf = df.rename(columns={\\'mon\\':\\'month\\', \\'yr\\':\\'year\\'})\\n\\n#make a new column for date\\ndf[\\'date\\'] = pd.to_datetime(df[[\\'month\\', \\'day\\', \\'year\\']])\\ndf.head()\\n'"
      ]
     },
     "execution_count": 3,
     "metadata": {},
     "output_type": "execute_result"
    }
   ],
   "source": [
    "\"\"\"\n",
    "NO ESBORRAR NILS\n",
    "\"\"\"\n",
    "\n",
    "\"\"\"\"\n",
    "csv_file = 'channel_sd_day.csv'\n",
    "#read first row of csv file\n",
    "title = pd.read_csv(csv_file, nrows=1).columns.tolist()[0]\n",
    "\n",
    "#get watershed name\n",
    "watershed = title.split()[0]\n",
    "watershed\n",
    "\n",
    "#read csv ignore first and third row\n",
    "df = pd.read_csv(csv_file, skiprows=[0,2], usecols = [1,2,3,47])    #use only month, day, year and flo_out\n",
    "df\n",
    "\n",
    "#remove spaces in column names\n",
    "df.columns = df.columns.str.replace(' ', '')\n",
    "\n",
    "#replace column title mon by month and yr by year\n",
    "df = df.rename(columns={'mon':'month', 'yr':'year'})\n",
    "\n",
    "#make a new column for date\n",
    "df['date'] = pd.to_datetime(df[['month', 'day', 'year']])\n",
    "df.head()\n",
    "\"\"\""
   ]
  },
  {
   "cell_type": "code",
   "execution_count": 4,
   "metadata": {},
   "outputs": [
    {
     "data": {
      "text/html": [
       "<div>\n",
       "<style scoped>\n",
       "    .dataframe tbody tr th:only-of-type {\n",
       "        vertical-align: middle;\n",
       "    }\n",
       "\n",
       "    .dataframe tbody tr th {\n",
       "        vertical-align: top;\n",
       "    }\n",
       "\n",
       "    .dataframe thead th {\n",
       "        text-align: right;\n",
       "    }\n",
       "</style>\n",
       "<table border=\"1\" class=\"dataframe\">\n",
       "  <thead>\n",
       "    <tr style=\"text-align: right;\">\n",
       "      <th></th>\n",
       "      <th>Date</th>\n",
       "      <th>Flow</th>\n",
       "    </tr>\n",
       "  </thead>\n",
       "  <tbody>\n",
       "    <tr>\n",
       "      <th>0</th>\n",
       "      <td>2001-01-01</td>\n",
       "      <td>15.278000</td>\n",
       "    </tr>\n",
       "    <tr>\n",
       "      <th>1</th>\n",
       "      <td>2001-01-02</td>\n",
       "      <td>14.711000</td>\n",
       "    </tr>\n",
       "    <tr>\n",
       "      <th>2</th>\n",
       "      <td>2001-01-03</td>\n",
       "      <td>11.386000</td>\n",
       "    </tr>\n",
       "    <tr>\n",
       "      <th>3</th>\n",
       "      <td>2001-01-04</td>\n",
       "      <td>9.958000</td>\n",
       "    </tr>\n",
       "    <tr>\n",
       "      <th>4</th>\n",
       "      <td>2001-01-05</td>\n",
       "      <td>8.722000</td>\n",
       "    </tr>\n",
       "    <tr>\n",
       "      <th>...</th>\n",
       "      <td>...</td>\n",
       "      <td>...</td>\n",
       "    </tr>\n",
       "    <tr>\n",
       "      <th>7347</th>\n",
       "      <td>2021-02-12</td>\n",
       "      <td>6.065059</td>\n",
       "    </tr>\n",
       "    <tr>\n",
       "      <th>7348</th>\n",
       "      <td>2021-02-13</td>\n",
       "      <td>6.384958</td>\n",
       "    </tr>\n",
       "    <tr>\n",
       "      <th>7349</th>\n",
       "      <td>2021-02-14</td>\n",
       "      <td>5.848010</td>\n",
       "    </tr>\n",
       "    <tr>\n",
       "      <th>7350</th>\n",
       "      <td>2021-02-15</td>\n",
       "      <td>5.843729</td>\n",
       "    </tr>\n",
       "    <tr>\n",
       "      <th>7351</th>\n",
       "      <td>2021-02-16</td>\n",
       "      <td>5.800309</td>\n",
       "    </tr>\n",
       "  </tbody>\n",
       "</table>\n",
       "<p>7352 rows × 2 columns</p>\n",
       "</div>"
      ],
      "text/plain": [
       "           Date       Flow\n",
       "0    2001-01-01  15.278000\n",
       "1    2001-01-02  14.711000\n",
       "2    2001-01-03  11.386000\n",
       "3    2001-01-04   9.958000\n",
       "4    2001-01-05   8.722000\n",
       "...         ...        ...\n",
       "7347 2021-02-12   6.065059\n",
       "7348 2021-02-13   6.384958\n",
       "7349 2021-02-14   5.848010\n",
       "7350 2021-02-15   5.843729\n",
       "7351 2021-02-16   5.800309\n",
       "\n",
       "[7352 rows x 2 columns]"
      ]
     },
     "execution_count": 4,
     "metadata": {},
     "output_type": "execute_result"
    }
   ],
   "source": [
    "a_47_df = pd.read_csv(\"Observations/a47.csv\")\n",
    "a_47_df['Date'] = pd.to_datetime(a_47_df['Date'])\n",
    "\n",
    "a_47_df"
   ]
  },
  {
   "cell_type": "code",
   "execution_count": 5,
   "metadata": {},
   "outputs": [
    {
     "data": {
      "text/html": [
       "<div>\n",
       "<style scoped>\n",
       "    .dataframe tbody tr th:only-of-type {\n",
       "        vertical-align: middle;\n",
       "    }\n",
       "\n",
       "    .dataframe tbody tr th {\n",
       "        vertical-align: top;\n",
       "    }\n",
       "\n",
       "    .dataframe thead th {\n",
       "        text-align: right;\n",
       "    }\n",
       "</style>\n",
       "<table border=\"1\" class=\"dataframe\">\n",
       "  <thead>\n",
       "    <tr style=\"text-align: right;\">\n",
       "      <th></th>\n",
       "      <th>Date</th>\n",
       "      <th>Flow</th>\n",
       "    </tr>\n",
       "  </thead>\n",
       "  <tbody>\n",
       "    <tr>\n",
       "      <th>0</th>\n",
       "      <td>2001-01-01</td>\n",
       "      <td>9.150000</td>\n",
       "    </tr>\n",
       "    <tr>\n",
       "      <th>1</th>\n",
       "      <td>2001-01-02</td>\n",
       "      <td>8.866700</td>\n",
       "    </tr>\n",
       "    <tr>\n",
       "      <th>2</th>\n",
       "      <td>2001-01-03</td>\n",
       "      <td>8.542800</td>\n",
       "    </tr>\n",
       "    <tr>\n",
       "      <th>3</th>\n",
       "      <td>2001-01-04</td>\n",
       "      <td>8.327800</td>\n",
       "    </tr>\n",
       "    <tr>\n",
       "      <th>4</th>\n",
       "      <td>2001-01-05</td>\n",
       "      <td>8.382900</td>\n",
       "    </tr>\n",
       "    <tr>\n",
       "      <th>...</th>\n",
       "      <td>...</td>\n",
       "      <td>...</td>\n",
       "    </tr>\n",
       "    <tr>\n",
       "      <th>7347</th>\n",
       "      <td>2021-02-12</td>\n",
       "      <td>1.710101</td>\n",
       "    </tr>\n",
       "    <tr>\n",
       "      <th>7348</th>\n",
       "      <td>2021-02-13</td>\n",
       "      <td>1.797535</td>\n",
       "    </tr>\n",
       "    <tr>\n",
       "      <th>7349</th>\n",
       "      <td>2021-02-14</td>\n",
       "      <td>1.942434</td>\n",
       "    </tr>\n",
       "    <tr>\n",
       "      <th>7350</th>\n",
       "      <td>2021-02-15</td>\n",
       "      <td>1.969309</td>\n",
       "    </tr>\n",
       "    <tr>\n",
       "      <th>7351</th>\n",
       "      <td>2021-02-16</td>\n",
       "      <td>2.538378</td>\n",
       "    </tr>\n",
       "  </tbody>\n",
       "</table>\n",
       "<p>7352 rows × 2 columns</p>\n",
       "</div>"
      ],
      "text/plain": [
       "           Date      Flow\n",
       "0    2001-01-01  9.150000\n",
       "1    2001-01-02  8.866700\n",
       "2    2001-01-03  8.542800\n",
       "3    2001-01-04  8.327800\n",
       "4    2001-01-05  8.382900\n",
       "...         ...       ...\n",
       "7347 2021-02-12  1.710101\n",
       "7348 2021-02-13  1.797535\n",
       "7349 2021-02-14  1.942434\n",
       "7350 2021-02-15  1.969309\n",
       "7351 2021-02-16  2.538378\n",
       "\n",
       "[7352 rows x 2 columns]"
      ]
     },
     "execution_count": 5,
     "metadata": {},
     "output_type": "execute_result"
    }
   ],
   "source": [
    "a_03_df = pd.read_csv(\"Observations/a03.csv\")\n",
    "#parse date column\n",
    "a_03_df['Date'] = pd.to_datetime(a_03_df['Date'])\n",
    "a_03_df"
   ]
  },
  {
   "cell_type": "code",
   "execution_count": 6,
   "metadata": {},
   "outputs": [],
   "source": [
    "a_03 = IHA(a_03_df, date_col = 'Date', flow_col = 'Flow')"
   ]
  },
  {
   "cell_type": "code",
   "execution_count": 7,
   "metadata": {},
   "outputs": [],
   "source": [
    "a_47 = IHA(a_47_df, date_col = 'Date', flow_col = 'Flow')"
   ]
  },
  {
   "cell_type": "code",
   "execution_count": 8,
   "metadata": {},
   "outputs": [
    {
     "data": {
      "text/plain": [
       "Date\n",
       "2001     16\n",
       "2002    128\n",
       "2003    338\n",
       "2004     91\n",
       "2005    319\n",
       "2006     30\n",
       "2007    104\n",
       "2008    146\n",
       "2009     34\n",
       "2010    283\n",
       "2011     74\n",
       "2012     82\n",
       "2013     65\n",
       "2014    334\n",
       "2015    307\n",
       "2016    159\n",
       "2017     45\n",
       "2018    288\n",
       "2019    296\n",
       "2020     23\n",
       "2021     22\n",
       "dtype: int64"
      ]
     },
     "execution_count": 8,
     "metadata": {},
     "output_type": "execute_result"
    }
   ],
   "source": [
    "a_47.annual_1_day_max_julian_day()"
   ]
  },
  {
   "cell_type": "code",
   "execution_count": null,
   "metadata": {},
   "outputs": [],
   "source": []
  }
 ],
 "metadata": {
  "kernelspec": {
   "display_name": "hackathon",
   "language": "python",
   "name": "python3"
  },
  "language_info": {
   "codemirror_mode": {
    "name": "ipython",
    "version": 3
   },
   "file_extension": ".py",
   "mimetype": "text/x-python",
   "name": "python",
   "nbconvert_exporter": "python",
   "pygments_lexer": "ipython3",
   "version": "3.11.0"
  },
  "orig_nbformat": 4,
  "vscode": {
   "interpreter": {
    "hash": "69060bfe147e60603269367298bfd775c6b167aba108b521beaeacd30c3feb0b"
   }
  }
 },
 "nbformat": 4,
 "nbformat_minor": 2
}
